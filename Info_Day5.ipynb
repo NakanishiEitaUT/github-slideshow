{
  "nbformat": 4,
  "nbformat_minor": 0,
  "metadata": {
    "colab": {
      "name": "Info Day5.ipynb",
      "provenance": [],
      "collapsed_sections": [],
      "authorship_tag": "ABX9TyOBl5U+569HMVVSWIPp7cGc",
      "include_colab_link": true
    },
    "kernelspec": {
      "name": "python3",
      "display_name": "Python 3"
    }
  },
  "cells": [
    {
      "cell_type": "markdown",
      "metadata": {
        "id": "view-in-github",
        "colab_type": "text"
      },
      "source": [
        "<a href=\"https://colab.research.google.com/github/NakanishiEitaUT/github-slideshow/blob/my-slide/Info_Day5.ipynb\" target=\"_parent\"><img src=\"https://colab.research.google.com/assets/colab-badge.svg\" alt=\"Open In Colab\"/></a>"
      ]
    },
    {
      "cell_type": "markdown",
      "metadata": {
        "id": "zPfojEZwVVY5",
        "colab_type": "text"
      },
      "source": [
        "自分の名前を表示"
      ]
    },
    {
      "cell_type": "code",
      "metadata": {
        "id": "n3msyIRjVUeb",
        "colab_type": "code",
        "colab": {}
      },
      "source": [
        ""
      ],
      "execution_count": null,
      "outputs": []
    },
    {
      "cell_type": "markdown",
      "metadata": {
        "id": "UpzERQzsVRes",
        "colab_type": "text"
      },
      "source": [
        "1234x5678の計算結果を表示"
      ]
    },
    {
      "cell_type": "code",
      "metadata": {
        "id": "Js0dNWT3VPEh",
        "colab_type": "code",
        "colab": {}
      },
      "source": [
        ""
      ],
      "execution_count": null,
      "outputs": []
    },
    {
      "cell_type": "markdown",
      "metadata": {
        "id": "G4yTOj9YWP7q",
        "colab_type": "text"
      },
      "source": [
        "19÷3の余りを表示"
      ]
    },
    {
      "cell_type": "code",
      "metadata": {
        "id": "DVGVavnOWY3F",
        "colab_type": "code",
        "colab": {}
      },
      "source": [
        ""
      ],
      "execution_count": null,
      "outputs": []
    },
    {
      "cell_type": "markdown",
      "metadata": {
        "id": "b9Lr55y7WbTf",
        "colab_type": "text"
      },
      "source": [
        "以下のコードを修正"
      ]
    },
    {
      "cell_type": "code",
      "metadata": {
        "id": "YkCEsXwEWgwt",
        "colab_type": "code",
        "colab": {
          "base_uri": "https://localhost:8080/",
          "height": 134
        },
        "outputId": "ff731f04-0d46-4d84-921e-017bdc916c34"
      },
      "source": [
        "print(\"aaa\")"
      ],
      "execution_count": 1,
      "outputs": [
        {
          "output_type": "error",
          "ename": "SyntaxError",
          "evalue": "ignored",
          "traceback": [
            "\u001b[0;36m  File \u001b[0;32m\"<ipython-input-1-dcb0e6c027dd>\"\u001b[0;36m, line \u001b[0;32m1\u001b[0m\n\u001b[0;31m    print(\"aaa)\u001b[0m\n\u001b[0m               ^\u001b[0m\n\u001b[0;31mSyntaxError\u001b[0m\u001b[0;31m:\u001b[0m EOL while scanning string literal\n"
          ]
        }
      ]
    }
  ]
}